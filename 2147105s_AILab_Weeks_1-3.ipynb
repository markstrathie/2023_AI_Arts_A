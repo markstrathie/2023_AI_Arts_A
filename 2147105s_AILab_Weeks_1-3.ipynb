{
 "cells": [
  {
   "cell_type": "markdown",
   "id": "64f36a52",
   "metadata": {},
   "source": [
    "# Week 1: Getting started with Anaconda, Jupyter Notebook and Python\n",
    "\n",
    "### Exercises to familiarise myself with Jupyter Notebook and its relationship to Python.\n",
    "\n",
    "a) I joined this course because I am interested in the more practical aspects of DMIS. AI can be used as a tool to create and analyse information in many areas.\n",
    "\n",
    "b) I have prior experience with Python and a little AI through the computer science classes I took last year.\n",
    "\n",
    "c) I expect to learn:\n",
    "- how to use AI to help my productivity\n",
    "- how to code for machine learning\n",
    "- how to combine these into a practical skillset for a future career"
   ]
  },
  {
   "cell_type": "code",
   "execution_count": null,
   "id": "8886073b",
   "metadata": {},
   "outputs": [],
   "source": [
    "message1 = \"Hello, World!\"\n",
    "\n",
    "print (message1[0])"
   ]
  },
  {
   "cell_type": "code",
   "execution_count": null,
   "id": "912c02b0",
   "metadata": {},
   "outputs": [],
   "source": [
    "from IPython.display import *\n",
    "YouTubeVideo(\"tK0vp8LlDiM\")"
   ]
  },
  {
   "cell_type": "code",
   "execution_count": null,
   "id": "cef0cba2",
   "metadata": {},
   "outputs": [],
   "source": [
    "import webbrowser #importing a library\n",
    "import requests #importing a library\n",
    "\n",
    "print(\"Shall we hunt down an old website?\") #printing intro message\n",
    "site = input(\"Type a website URL: \") #assigning a value to a variable\n",
    "era = input(\"Type year, month, and date, e.g., 20150613: \") #assigning a value to a variable\n",
    "url = \"http://archive.org/wayback/available?url=%s&timestamp=%s\" % (site, era) #assigning a value to a variable\n",
    "response = requests.get(url) #assigning a value to a variable\n",
    "data = response.json() #assigning a value to a variable\n",
    "try:\n",
    "    old_site = data[\"archived_snapshots\"][\"closest\"][\"url\"] #assigning a value to a variable\n",
    "    print(\"Found this copy: \", old_site) #printing url of the search result\n",
    "    print(\"It should appear in your browser.\") #printing message\n",
    "    webbrowser.open(old_site)\n",
    "except:\n",
    "    print(\"Sorry, could not find the site.\") #message to print if no result found"
   ]
  },
  {
   "cell_type": "markdown",
   "id": "07d4f9d2",
   "metadata": {},
   "source": [
    "# Week 2. Exploring Data in Multiple Ways"
   ]
  },
  {
   "cell_type": "code",
   "execution_count": null,
   "id": "2dfef2e6",
   "metadata": {},
   "outputs": [],
   "source": [
    "from IPython.display import Image\n",
    "\n",
    "Image (\"picture1.jpg\")"
   ]
  },
  {
   "cell_type": "code",
   "execution_count": null,
   "id": "e6780373",
   "metadata": {},
   "outputs": [],
   "source": [
    "from IPython.display import Audio\n",
    "\n",
    "Audio (\"audio1.mid\")"
   ]
  },
  {
   "cell_type": "code",
   "execution_count": null,
   "id": "2d2ea74f",
   "metadata": {},
   "outputs": [],
   "source": [
    "Audio (\"GoldbergVariations_MehmetOkonsar-1of3_Var1to10.ogg\")\n",
    "\n",
    "#This file is licensed under the Creative Commons Attribution-Share Alike 3.0 Unported license.\n",
    "#You are free: \n",
    "#•\tto share – to copy, distribute and transmit the work\n",
    "#•\tto remix – to adapt the work\n",
    "#Under the following conditions: \n",
    "#•\tattribution – You must give appropriate credit, provide a link to the license, and indicate if changes were made. You may do so in any reasonable manner, but not in any way that suggests the licensor endorses you or your use.\n",
    "#•\tshare alike – If you remix, transform, or build upon the material, you must distribute your contributions under the same or compatible license as the original.\n",
    "#The original ogg file was found at the url: \n",
    "#https://en.wikipedia.org/wiki/File:GoldbergVariations_MehmetOkonsar-1of3_Var1to10.ogg"
   ]
  },
  {
   "cell_type": "markdown",
   "id": "3f23e515",
   "metadata": {},
   "source": [
    "### Reflections\n",
    "\n",
    "The .ogg file plays but the .mid does not. I beleive the file type is not compatible. The library must not have a codec for that file type."
   ]
  },
  {
   "cell_type": "markdown",
   "id": "ae4cd640",
   "metadata": {},
   "source": [
    "## Task 3.2: Using matplotlib"
   ]
  },
  {
   "cell_type": "code",
   "execution_count": null,
   "id": "06f109d6",
   "metadata": {},
   "outputs": [],
   "source": [
    "from matplotlib import pyplot\n",
    "test_picture = pyplot.imread(\"picture1.jpg\")\n",
    "print(\"Numpy array of the image is: \", test_picture)\n",
    "pyplot.imshow(test_picture)"
   ]
  },
  {
   "cell_type": "code",
   "execution_count": null,
   "id": "3729a8c8",
   "metadata": {
    "scrolled": true
   },
   "outputs": [],
   "source": [
    "test_picture_filtered = 2*test_picture/3\n",
    "pyplot.imshow(test_picture_filtered)"
   ]
  },
  {
   "cell_type": "markdown",
   "id": "08e21666",
   "metadata": {},
   "source": [
    "### Discussion\n",
    "\n",
    "I believe the RGB colour data is being manipulated by the mutiplication and division."
   ]
  },
  {
   "cell_type": "markdown",
   "id": "2cc6bdba",
   "metadata": {},
   "source": [
    "## Task 3-3: Exploring scikit-learn (a.k.a sklearn)"
   ]
  },
  {
   "cell_type": "code",
   "execution_count": null,
   "id": "76c9e0c5",
   "metadata": {},
   "outputs": [],
   "source": [
    "from sklearn import datasets\n",
    "dir(datasets)"
   ]
  },
  {
   "cell_type": "markdown",
   "id": "9044ba65",
   "metadata": {},
   "source": [
    "### Dataset choices\n",
    "\n",
    "I'm going to look at wine and iris because they sound interesting"
   ]
  },
  {
   "cell_type": "code",
   "execution_count": null,
   "id": "ad2e9064",
   "metadata": {},
   "outputs": [],
   "source": [
    "wine_data = datasets.load_wine()\n",
    "print(wine_data.DESCR)"
   ]
  },
  {
   "cell_type": "code",
   "execution_count": null,
   "id": "f6f30326",
   "metadata": {},
   "outputs": [],
   "source": [
    "wine_data.feature_names"
   ]
  },
  {
   "cell_type": "code",
   "execution_count": null,
   "id": "405ba4ed",
   "metadata": {},
   "outputs": [],
   "source": [
    "wine_data.target_names"
   ]
  },
  {
   "cell_type": "code",
   "execution_count": null,
   "id": "5e673382",
   "metadata": {},
   "outputs": [],
   "source": [
    "wine_data.keys()"
   ]
  },
  {
   "cell_type": "code",
   "execution_count": null,
   "id": "3ae7b87c",
   "metadata": {},
   "outputs": [],
   "source": [
    "iris_data = datasets.load_iris()\n",
    "print(iris_data.DESCR)"
   ]
  },
  {
   "cell_type": "code",
   "execution_count": null,
   "id": "1b81ee20",
   "metadata": {},
   "outputs": [],
   "source": [
    "from sklearn import datasets\n",
    "import pandas\n",
    "\n",
    "wine_data = datasets.load_wine()\n",
    "wine_dataframe = pandas.DataFrame(data=wine_data['data'], columns = wine_data['feature_names'])\n",
    "#wine_dataframe.head()\n",
    "wine_dataframe.describe()"
   ]
  },
  {
   "cell_type": "markdown",
   "id": "fd9edcd4",
   "metadata": {},
   "source": [
    "### Discussion\n",
    "\n",
    "I believe the head() function creates a table with the feature names as column headings.\n",
    "The describe() function then populates the row headings and data"
   ]
  },
  {
   "cell_type": "markdown",
   "id": "0cf48d85",
   "metadata": {},
   "source": [
    "## Task 3-5: Thinking about data bias\n",
    "\n",
    "It is important to consider the data you are using to form your dataset, as bias is almost always present. This can include or leave out variables that cause inaccurate conclusions to be drawn. 5 types:\n",
    "\n",
    "- Response or activity bias\n",
    "    - Where the majority of data is produce by a minority of the population\n",
    "    - Solved by debiasing techniques to improve fairness\n",
    "- Selection bias\n",
    "     - Non-random subset of items presented to users (popular items at top left)\n",
    "     - Solved by randomising choices\n",
    "- System drift\n",
    "    - System changes that change how user interacts with system (Google adding new recommended searches)\n",
    "    - Solved by factoring in these changes\n",
    "- Omitted variable\n",
    "    - Key variable not recorded\n",
    "    - Solved by taking this into account or collecting extra data before processing\n",
    "- Societal bias\n",
    "    - Data created by humans can often have gender/race stereotypes embedded\n",
    "    - Solved by debiasing techniques to improve fairness\n",
    "    \n",
    "Techniques to correct these depend on the type of bias and can be put in place before, during or after processing the data, which is often then used in AI and machine learning.\n",
    "\n",
    "Weighing data to minimise bias and to simulate real-world populations."
   ]
  },
  {
   "cell_type": "code",
   "execution_count": null,
   "id": "97ca690b",
   "metadata": {},
   "outputs": [],
   "source": []
  }
 ],
 "metadata": {
  "kernelspec": {
   "display_name": "Python 3 (ipykernel)",
   "language": "python",
   "name": "python3"
  },
  "language_info": {
   "codemirror_mode": {
    "name": "ipython",
    "version": 3
   },
   "file_extension": ".py",
   "mimetype": "text/x-python",
   "name": "python",
   "nbconvert_exporter": "python",
   "pygments_lexer": "ipython3",
   "version": "3.9.18"
  }
 },
 "nbformat": 4,
 "nbformat_minor": 5
}
